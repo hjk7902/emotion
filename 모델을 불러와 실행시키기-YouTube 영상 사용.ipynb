{
 "cells": [
  {
   "cell_type": "code",
   "execution_count": 2,
   "metadata": {},
   "outputs": [],
   "source": [
    "import cv2\n",
    "net = cv2.dnn.readNetFromCaffe(\"deploy.prototxt\",\n",
    "                               \"res10_300x300_ssd_iter_140000.caffemodel\")\n",
    "\n",
    "from tensorflow.keras.models import load_model\n",
    "model = load_model(\"Weights-99-0.6537.h5\")"
   ]
  },
  {
   "cell_type": "code",
   "execution_count": 3,
   "metadata": {},
   "outputs": [
    {
     "name": "stdout",
     "output_type": "stream",
     "text": [
      "best resolution : 1280x720\n"
     ]
    }
   ],
   "source": [
    "# pafy, youtube-dl 패키지 설치해야 함\n",
    "import pafy\n",
    "\n",
    "url = \"https://youtu.be/embYkODkzcs\"\n",
    "video = pafy.new(url)\n",
    "best = video.getbest(preftype=\"mp4\")\n",
    "print(\"best resolution : {}\".format(best.resolution))"
   ]
  },
  {
   "cell_type": "code",
   "execution_count": 6,
   "metadata": {},
   "outputs": [],
   "source": [
    "import numpy as np\n",
    "import pafy\n",
    "\n",
    "EMOTIONS_LIST = [\"Angry\", \"Disgust\", \"Fear\", \"Happy\", \"Sad\", \"Surprise\", \"Neutral\"]\n",
    "\n",
    "url = \"https://youtu.be/embYkODkzcs\"\n",
    "video = pafy.new(url)\n",
    "best = video.getbest(preftype=\"mp4\")\n",
    "print(\"best resolution : {}\".format(best.resolution))\n",
    "\n",
    "video = cv2.VideoCapture(best.url)\n",
    "\n",
    "while True:\n",
    "    ret, frame = video.read()\n",
    "    if ret:\n",
    "        (h, w) = frame.shape[:2]\n",
    "        blob = cv2.dnn.blobFromImage(cv2.resize(frame,\n",
    "                                                (300, 300)), 1.0, (300, 300),\n",
    "                                     (104.0, 177.0, 123.0))\n",
    "        # 탐색 수행  \n",
    "        net.setInput(blob)\n",
    "        detections = net.forward()\n",
    "\n",
    "        for i in range(0, detections.shape[2]): \n",
    "            # 탐지한 객체의 신뢰도를 얻어냄 \n",
    "            confidence = detections[0, 0, i, 2]\n",
    "            # 신뢰도50% 이상에 대해서만 박스를 그림 \n",
    "            if confidence > 0.5: \n",
    "\n",
    "                # 객체 경계상자를 그리기 위한 좌표 계산 \n",
    "                box = detections[0,0,i,3:7]*np.array([w,h,w,h])\n",
    "                (startX,startY,endX,endY) = box.astype(\"int\")\n",
    "                # 경계상자를 그림\n",
    "                text = \"{:.2f}%\".format(confidence * 100)\n",
    "                y = startY-10 if startY-10 > 10 else startY+10\n",
    "                cv2.rectangle(frame, (startX, startY),\n",
    "                              (endX, endY), (0,0,255), 2)\n",
    "                face = frame[startY:endY, startX:endX]\n",
    "                roi = cv2.resize(face, (48, 48))\n",
    "                roi_gray = cv2.cvtColor(roi, cv2.COLOR_BGR2GRAY)\n",
    "                \n",
    "                pred = model.predict(roi_gray[np.newaxis, :, :, np.newaxis])\n",
    "                emotion = EMOTIONS_LIST[np.argmax(pred)]\n",
    "                cv2.putText(frame, emotion, (startX, y), \n",
    "                            cv2.FONT_HERSHEY_SIMPLEX, 1,\n",
    "                            (0,0,255), 3)\n",
    "\n",
    "        cv2.imshow(\"Emotion\", frame)\n",
    "\n",
    "        if cv2.waitKey(1)&0xFF == 27: # ESC\n",
    "            video.release()\n",
    "            cv2.destroyAllWindows()\n",
    "\n",
    "    else:\n",
    "        video.release()\n",
    "        break"
   ]
  },
  {
   "cell_type": "code",
   "execution_count": null,
   "metadata": {},
   "outputs": [],
   "source": []
  }
 ],
 "metadata": {
  "kernelspec": {
   "display_name": "Python 3",
   "language": "python",
   "name": "python3"
  },
  "language_info": {
   "codemirror_mode": {
    "name": "ipython",
    "version": 3
   },
   "file_extension": ".py",
   "mimetype": "text/x-python",
   "name": "python",
   "nbconvert_exporter": "python",
   "pygments_lexer": "ipython3",
   "version": "3.8.5"
  },
  "toc": {
   "base_numbering": 1,
   "nav_menu": {},
   "number_sections": true,
   "sideBar": true,
   "skip_h1_title": false,
   "title_cell": "Table of Contents",
   "title_sidebar": "Contents",
   "toc_cell": false,
   "toc_position": {},
   "toc_section_display": true,
   "toc_window_display": false
  }
 },
 "nbformat": 4,
 "nbformat_minor": 5
}
